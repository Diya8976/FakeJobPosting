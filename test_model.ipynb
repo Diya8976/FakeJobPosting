{
 "cells": [
  {
   "cell_type": "code",
   "execution_count": 1,
   "id": "499aa40c-9942-48a9-a030-5eeb5d0027ab",
   "metadata": {},
   "outputs": [],
   "source": [
    "import joblib\n",
    "import pandas as pd"
   ]
  },
  {
   "cell_type": "code",
   "execution_count": 2,
   "id": "6f762d77-b6b2-4843-8476-703302c1c95f",
   "metadata": {},
   "outputs": [
    {
     "name": "stdout",
     "output_type": "stream",
     "text": [
      "Model loaded successfully.\n"
     ]
    }
   ],
   "source": [
    "# Load the trained model\n",
    "model = joblib.load('fake_job_model.pkl')\n",
    "print(\"Model loaded successfully.\")"
   ]
  },
  {
   "cell_type": "code",
   "execution_count": 3,
   "id": "1b4053df-0585-44d3-b7c2-081c2f8b4261",
   "metadata": {},
   "outputs": [],
   "source": [
    "# Example input data\n",
    "new_job = {\n",
    "    'description': 'Looking for a software developer with Python experience.',\n",
    "    'company_profile': 'A leading tech company specializing in AI.',\n",
    "    'requirements': '3+ years of Python, familiarity with ML frameworks.'\n",
    "}"
   ]
  },
  {
   "cell_type": "code",
   "execution_count": 4,
   "id": "cea7e636-0f12-43ab-9e90-ac50fe00aba7",
   "metadata": {},
   "outputs": [],
   "source": [
    "# Convert input to DataFrame\n",
    "input_data = pd.DataFrame([new_job])"
   ]
  },
  {
   "cell_type": "code",
   "execution_count": 5,
   "id": "1473e591-32c5-4a52-9fed-4057adad44ce",
   "metadata": {},
   "outputs": [
    {
     "name": "stdout",
     "output_type": "stream",
     "text": [
      "Prediction: Legitimate\n"
     ]
    }
   ],
   "source": [
    "# Make a prediction\n",
    "prediction = model.predict(input_data)\n",
    "print(\"Prediction:\", \"Fake\" if prediction[0] == 1 else \"Legitimate\")"
   ]
  },
  {
   "cell_type": "code",
   "execution_count": null,
   "id": "f6dc073f-9838-4b37-a6b8-d04346e5f503",
   "metadata": {},
   "outputs": [],
   "source": []
  }
 ],
 "metadata": {
  "kernelspec": {
   "display_name": "Python 3 (ipykernel)",
   "language": "python",
   "name": "python3"
  },
  "language_info": {
   "codemirror_mode": {
    "name": "ipython",
    "version": 3
   },
   "file_extension": ".py",
   "mimetype": "text/x-python",
   "name": "python",
   "nbconvert_exporter": "python",
   "pygments_lexer": "ipython3",
   "version": "3.12.6"
  }
 },
 "nbformat": 4,
 "nbformat_minor": 5
}
