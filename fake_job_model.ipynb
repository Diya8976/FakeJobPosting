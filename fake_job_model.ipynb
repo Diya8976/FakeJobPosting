{
 "cells": [
  {
   "cell_type": "code",
   "execution_count": 1,
   "id": "1a76af8a-ca84-47d8-865a-e593c8ce64bc",
   "metadata": {},
   "outputs": [],
   "source": [
    "import pandas as pd\n",
    "import joblib\n",
    "from sklearn.pipeline import Pipeline\n",
    "from sklearn.compose import ColumnTransformer\n",
    "from sklearn.feature_extraction.text import TfidfVectorizer\n",
    "from sklearn.ensemble import RandomForestClassifier\n",
    "from sklearn.model_selection import train_test_split\n",
    "from sklearn.metrics import accuracy_score, classification_report"
   ]
  },
  {
   "cell_type": "code",
   "execution_count": 4,
   "id": "add00bd0-bb00-4d64-8f5b-921ab93ad6d9",
   "metadata": {},
   "outputs": [],
   "source": [
    "def preprocess_data(df):\n",
    "    df = df.drop(columns=['salary_range', 'department'], errors='ignore')\n",
    "    text_fields = ['description', 'company_profile', 'requirements', 'benefits']\n",
    "    for field in text_fields:\n",
    "        df[field] = df[field].fillna('')\n",
    "    for field in text_fields:\n",
    "        df[field] = df[field].str.lower()\n",
    "        df[field] = df[field].str.replace(r'[^\\w\\s]', '', regex=True)\n",
    "    \n",
    "    print(\"Data preprocessing completed.\")\n",
    "    return df"
   ]
  },
  {
   "cell_type": "code",
   "execution_count": 5,
   "id": "f6a2e632-218b-4961-96cd-d7be979e379a",
   "metadata": {},
   "outputs": [],
   "source": [
    "def build_pipeline():\n",
    "    # Text vectorization with TF-IDF\n",
    "    text_transformer = Pipeline(steps=[\n",
    "        ('tfidf', TfidfVectorizer(max_features=1000))\n",
    "    ])\n",
    "    \n",
    "    # Preprocessing pipeline for columns\n",
    "    preprocessor = ColumnTransformer(transformers=[\n",
    "        ('description', text_transformer, 'description'),\n",
    "        ('company_profile', text_transformer, 'company_profile'),\n",
    "        ('requirements', text_transformer, 'requirements')\n",
    "    ])\n",
    "    \n",
    "    # Full pipeline with a Random Forest classifier\n",
    "    pipeline = Pipeline(steps=[\n",
    "        ('preprocessor', preprocessor),\n",
    "        ('classifier', RandomForestClassifier(n_estimators=100, random_state=42))\n",
    "    ])\n",
    "    \n",
    "    print(\"Pipeline created.\")\n",
    "    return pipeline"
   ]
  },
  {
   "cell_type": "code",
   "execution_count": 7,
   "id": "6adf6366-497f-48e8-ba8e-d0cfb1917136",
   "metadata": {},
   "outputs": [],
   "source": [
    "def train_and_save_model(data_path, model_path='fake_job_model.pkl'):\n",
    "    # Load dataset\n",
    "    data = pd.read_csv(data_path)\n",
    "    print(\"Dataset loaded.\")\n",
    "    \n",
    "    # Preprocess dataset\n",
    "    data = preprocess_data(data)\n",
    "    \n",
    "    # Features (X) and target (y)\n",
    "    X = data[['description', 'company_profile', 'requirements']]\n",
    "    y = data['fraudulent']\n",
    "    \n",
    "    # Train-test split\n",
    "    X_train, X_test, y_train, y_test = train_test_split(X, y, test_size=0.2, random_state=42)\n",
    "    print(\"Data split into training and testing sets.\")\n",
    "    \n",
    "    # Build pipeline\n",
    "    pipeline = build_pipeline()\n",
    "    \n",
    "    # Train the pipeline\n",
    "    pipeline.fit(X_train, y_train)\n",
    "    print(\"Model training completed.\")\n",
    "    \n",
    "    # Evaluate the model\n",
    "    y_pred = pipeline.predict(X_test)\n",
    "    print(\"Accuracy:\", accuracy_score(y_test, y_pred))\n",
    "    print(\"Classification Report:\\n\", classification_report(y_test, y_pred))\n",
    "    \n",
    "    # Save the trained pipeline\n",
    "    joblib.dump(pipeline, model_path)\n",
    "    print(f\"Model saved successfully at {model_path}\")"
   ]
  },
  {
   "cell_type": "code",
   "execution_count": 10,
   "id": "62f980cb-f9b4-4631-9727-3ff1912046ff",
   "metadata": {},
   "outputs": [
    {
     "name": "stdout",
     "output_type": "stream",
     "text": [
      "Dataset loaded.\n",
      "Data preprocessing completed.\n",
      "Data split into training and testing sets.\n",
      "Pipeline created.\n",
      "Model training completed.\n",
      "Accuracy: 0.979586129753915\n",
      "Classification Report:\n",
      "               precision    recall  f1-score   support\n",
      "\n",
      "           0       0.98      1.00      0.99      3395\n",
      "           1       0.97      0.61      0.75       181\n",
      "\n",
      "    accuracy                           0.98      3576\n",
      "   macro avg       0.98      0.81      0.87      3576\n",
      "weighted avg       0.98      0.98      0.98      3576\n",
      "\n",
      "Model saved successfully at fake_job_model.pkl\n"
     ]
    }
   ],
   "source": [
    "if __name__ == \"__main__\":\n",
    "    train_and_save_model(r\"C:\\Users\\diya\\fake_job_postings.csv\", 'fake_job_model.pkl')"
   ]
  },
  {
   "cell_type": "code",
   "execution_count": null,
   "id": "c9a62108-16c4-4a17-adac-14990560cdd4",
   "metadata": {},
   "outputs": [],
   "source": []
  }
 ],
 "metadata": {
  "kernelspec": {
   "display_name": "Python 3 (ipykernel)",
   "language": "python",
   "name": "python3"
  },
  "language_info": {
   "codemirror_mode": {
    "name": "ipython",
    "version": 3
   },
   "file_extension": ".py",
   "mimetype": "text/x-python",
   "name": "python",
   "nbconvert_exporter": "python",
   "pygments_lexer": "ipython3",
   "version": "3.12.6"
  }
 },
 "nbformat": 4,
 "nbformat_minor": 5
}
