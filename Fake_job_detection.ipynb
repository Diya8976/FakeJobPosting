{
 "cells": [
  {
   "cell_type": "code",
   "execution_count": 1,
   "id": "6ba80aed-e419-4d0e-af91-c35bb5369b14",
   "metadata": {},
   "outputs": [],
   "source": [
    "import pandas as pd\n",
    "import numpy as np\n",
    "#import matplotlib.pyplot as plt\n",
    "#import seaborn as sns\n",
    "from sklearn.model_selection import train_test_split\n",
    "from sklearn.feature_extraction.text import TfidfVectorizer\n",
    "from sklearn.ensemble import RandomForestClassifier\n",
    "from sklearn.metrics import accuracy_score, classification_report\n",
    "#import nltk\n",
    "#from nltk.corpus import stopwords\n",
    "#from nltk.tokenize import word_tokenize\n",
    "import re\n",
    "import string\n",
    "\n",
    "#nltk.download('stopwords')\n",
    "#nltk.download('punkt')"
   ]
  },
  {
   "cell_type": "code",
   "execution_count": 2,
   "id": "67d0ce84-950f-45c3-8201-bbdc9db0950d",
   "metadata": {},
   "outputs": [
    {
     "name": "stdout",
     "output_type": "stream",
     "text": [
      "C:\\Users\\diya\\Desktop\\jupyter projects\n"
     ]
    }
   ],
   "source": [
    "import os\n",
    "print(os.getcwd())"
   ]
  },
  {
   "cell_type": "code",
   "execution_count": 3,
   "id": "2b857c71-7061-4c97-b0dc-566c3ee4dcb9",
   "metadata": {},
   "outputs": [
    {
     "name": "stdout",
     "output_type": "stream",
     "text": [
      "True\n"
     ]
    }
   ],
   "source": [
    "import os\n",
    "print(os.path.exists(r\"C:\\Users\\Public\\Documents\"))"
   ]
  },
  {
   "cell_type": "code",
   "execution_count": 4,
   "id": "5aff0f45-4a45-4c89-a441-bf4709f2ab95",
   "metadata": {},
   "outputs": [],
   "source": [
    "# load the dataset\n",
    "import os\n",
    "file_path = os.path.join(\"C:\\\\\", \"Users\", \"Public\", \"Documents\", \"fake_job_postings.csv\")\n",
    "def load_data(file_path):\n",
    "    data = pd.read_csv(file_path)\n",
    "    print(data.info())\n",
    "    print(data.head())"
   ]
  },
  {
   "cell_type": "code",
   "execution_count": 5,
   "id": "e8bf5175-7a6f-44d6-a44b-2a70f2b5f1e0",
   "metadata": {},
   "outputs": [],
   "source": [
    "def preprocess_text(text):\n",
    "    text = re.sub(r\"http\\S+\", \"\", text)\n",
    "    text = text.translate(str.maketrans(\"\", \"\", string.punctuation))\n",
    "    text = text.lower()\n",
    "    return text"
   ]
  },
  {
   "cell_type": "code",
   "execution_count": 6,
   "id": "d4f3472a-7760-4951-98ff-86c648ed9177",
   "metadata": {},
   "outputs": [],
   "source": [
    "def preprocess_data(data):\n",
    "    data['description'] = data['description'].fillna(\"\").apply(preprocess_text)\n",
    "    data['requirements'] = data['requirements'].fillna(\"\").apply(preprocess_text)\n",
    "    data['combined_text'] = data['description']+ \" \" + data['requirements']\n",
    "    return data"
   ]
  },
  {
   "cell_type": "code",
   "execution_count": 7,
   "id": "68c6ed04-cc3e-48a9-884c-02ba412ce3a0",
   "metadata": {},
   "outputs": [],
   "source": [
    "def extract_features(data):\n",
    "    vectorizer = TfidfVectorizer(max_features=5000)\n",
    "    X = vectorizer.fit_transform(data['combined_text'])\n",
    "    return X, vectorizer"
   ]
  },
  {
   "cell_type": "code",
   "execution_count": 8,
   "id": "0cd4ff18-7be7-44e5-add2-971817059972",
   "metadata": {},
   "outputs": [],
   "source": [
    "def train_model(X, y):\n",
    "    X_train, X_test, y_train, y_test = train_test_split(X, y, test_size=0.3, random_state=42)\n",
    "    model = RandomForestClassifier(random_state=42)\n",
    "    model.fit(X_train, y_train)\n",
    "    return model, X_test, y_test"
   ]
  },
  {
   "cell_type": "code",
   "execution_count": 9,
   "id": "b3450207-a1e6-455f-a409-e94965c093d0",
   "metadata": {},
   "outputs": [],
   "source": [
    "def evaluate_model(model, X_test, y_test):\n",
    "    y_pred = model.predict(X_test)\n",
    "    print(\"Confusion Matrix:\\n\", confusion_matrix(y_test, y_pred))\n",
    "    print(\"Classification Report:\\n\", classification_report(y_test, y_pred))\n",
    "    print(\"Accuracy:\", accuracy_score(y_test, y_pred))"
   ]
  },
  {
   "cell_type": "code",
   "execution_count": 10,
   "id": "7c2cd28b-c588-4401-89f2-fbb2a67d1fae",
   "metadata": {},
   "outputs": [
    {
     "name": "stdout",
     "output_type": "stream",
     "text": [
      "\n",
      "Dataset Info:\n",
      "<class 'pandas.core.frame.DataFrame'>\n",
      "RangeIndex: 17880 entries, 0 to 17879\n",
      "Data columns (total 18 columns):\n",
      " #   Column               Non-Null Count  Dtype \n",
      "---  ------               --------------  ----- \n",
      " 0   job_id               17880 non-null  int64 \n",
      " 1   title                17880 non-null  object\n",
      " 2   location             17534 non-null  object\n",
      " 3   department           6333 non-null   object\n",
      " 4   salary_range         2868 non-null   object\n",
      " 5   company_profile      14572 non-null  object\n",
      " 6   description          17879 non-null  object\n",
      " 7   requirements         15184 non-null  object\n",
      " 8   benefits             10668 non-null  object\n",
      " 9   telecommuting        17880 non-null  int64 \n",
      " 10  has_company_logo     17880 non-null  int64 \n",
      " 11  has_questions        17880 non-null  int64 \n",
      " 12  employment_type      14409 non-null  object\n",
      " 13  required_experience  10830 non-null  object\n",
      " 14  required_education   9775 non-null   object\n",
      " 15  industry             12977 non-null  object\n",
      " 16  function             11425 non-null  object\n",
      " 17  fraudulent           17880 non-null  int64 \n",
      "dtypes: int64(5), object(13)\n",
      "memory usage: 2.5+ MB\n",
      "None\n",
      "\n",
      "First Few Rows of the Dataset:\n",
      "   job_id                                      title            location  \\\n",
      "0       1                           Marketing Intern    US, NY, New York   \n",
      "1       2  Customer Service - Cloud Video Production      NZ, , Auckland   \n",
      "2       3    Commissioning Machinery Assistant (CMA)       US, IA, Wever   \n",
      "3       4          Account Executive - Washington DC  US, DC, Washington   \n",
      "4       5                        Bill Review Manager  US, FL, Fort Worth   \n",
      "\n",
      "  department salary_range                                    company_profile  \\\n",
      "0  Marketing          NaN  We're Food52, and we've created a groundbreaki...   \n",
      "1    Success          NaN  90 Seconds, the worlds Cloud Video Production ...   \n",
      "2        NaN          NaN  Valor Services provides Workforce Solutions th...   \n",
      "3      Sales          NaN  Our passion for improving quality of life thro...   \n",
      "4        NaN          NaN  SpotSource Solutions LLC is a Global Human Cap...   \n",
      "\n",
      "                                         description  \\\n",
      "0  Food52, a fast-growing, James Beard Award-winn...   \n",
      "1  Organised - Focused - Vibrant - Awesome!Do you...   \n",
      "2  Our client, located in Houston, is actively se...   \n",
      "3  THE COMPANY: ESRI – Environmental Systems Rese...   \n",
      "4  JOB TITLE: Itemization Review ManagerLOCATION:...   \n",
      "\n",
      "                                        requirements  \\\n",
      "0  Experience with content management systems a m...   \n",
      "1  What we expect from you:Your key responsibilit...   \n",
      "2  Implement pre-commissioning and commissioning ...   \n",
      "3  EDUCATION: Bachelor’s or Master’s in GIS, busi...   \n",
      "4  QUALIFICATIONS:RN license in the State of Texa...   \n",
      "\n",
      "                                            benefits  telecommuting  \\\n",
      "0                                                NaN              0   \n",
      "1  What you will get from usThrough being part of...              0   \n",
      "2                                                NaN              0   \n",
      "3  Our culture is anything but corporate—we have ...              0   \n",
      "4                              Full Benefits Offered              0   \n",
      "\n",
      "   has_company_logo  has_questions employment_type required_experience  \\\n",
      "0                 1              0           Other          Internship   \n",
      "1                 1              0       Full-time      Not Applicable   \n",
      "2                 1              0             NaN                 NaN   \n",
      "3                 1              0       Full-time    Mid-Senior level   \n",
      "4                 1              1       Full-time    Mid-Senior level   \n",
      "\n",
      "  required_education                   industry              function  \\\n",
      "0                NaN                        NaN             Marketing   \n",
      "1                NaN  Marketing and Advertising      Customer Service   \n",
      "2                NaN                        NaN                   NaN   \n",
      "3  Bachelor's Degree          Computer Software                 Sales   \n",
      "4  Bachelor's Degree     Hospital & Health Care  Health Care Provider   \n",
      "\n",
      "   fraudulent  \n",
      "0           0  \n",
      "1           0  \n",
      "2           0  \n",
      "3           0  \n",
      "4           0  \n"
     ]
    }
   ],
   "source": [
    "import os\n",
    "import pandas as pd\n",
    "def load_data(file_path):\n",
    "    \"\"\"\n",
    "    Load the dataset from a CSV file.\n",
    "    Args:\n",
    "        file_path (str): Path to the CSV file.\n",
    "    Returns:\n",
    "        pd.DataFrame: Loaded DataFrame.\n",
    "    \"\"\"\n",
    "    if os.path.exists(file_path):\n",
    "        try:\n",
    "            return pd.read_csv(file_path)\n",
    "        except PermissionError:\n",
    "            raise PermissionError(\n",
    "                f\"Permission denied for file: {file_path}. Check the file's permissions and try again.\"\n",
    "            )\n",
    "        except Exception as e:\n",
    "            raise Exception(f\"An unexpected error occurred: {e}\")\n",
    "    else:\n",
    "        raise FileNotFoundError(f\"File not found at: {file_path}\")\n",
    "\n",
    "if __name__ == \"__main__\":\n",
    "    file_path = os.path.join(\"C:\\\\\", \"Users\", \"Public\", \"Documents\", \"fake_job_postings.csv\")\n",
    "\n",
    "    try:\n",
    "        data = load_data(file_path)\n",
    "        print(\"\\nDataset Info:\")\n",
    "        print(data.info())\n",
    "        print(\"\\nFirst Few Rows of the Dataset:\")\n",
    "        print(data.head())\n",
    "    except (FileNotFoundError, PermissionError) as e:\n",
    "        print(e)\n"
   ]
  },
  {
   "cell_type": "code",
   "execution_count": 11,
   "id": "e912bc88-8188-4432-8f13-694b3b0866b0",
   "metadata": {},
   "outputs": [],
   "source": [
    "import pandas as pd"
   ]
  },
  {
   "cell_type": "code",
   "execution_count": 12,
   "id": "1ae47e05-241d-4104-a2fd-c82a39466560",
   "metadata": {},
   "outputs": [],
   "source": [
    "def preprocess_data(df):\n",
    "    df = df.drop(columns=['salary_range', 'department'], errors='ignore')\n",
    "    text_fields = ['description', 'company_profile', 'requirements', 'benefits']\n",
    "    for field in text_fields:\n",
    "        df[field] = df[field].fillna('')\n",
    "    for field in text_fields:\n",
    "        df[field] = df[field].str.lower()\n",
    "        df[field] = df[field].str.replace(r'[^\\w\\s]', '', regex = True)\n",
    "    print(\"data preprocessing completed.\")\n",
    "    return df"
   ]
  },
  {
   "cell_type": "code",
   "execution_count": 13,
   "id": "6765c37a-62ff-4804-b26a-a1a7d0742fd7",
   "metadata": {},
   "outputs": [
    {
     "name": "stdout",
     "output_type": "stream",
     "text": [
      "True\n"
     ]
    }
   ],
   "source": [
    "import os\n",
    "print(os.access(r\"C:\\Users\\diya\", os.R_OK))"
   ]
  },
  {
   "cell_type": "code",
   "execution_count": 17,
   "id": "9355c12c-ab06-4d98-aa39-9253a3892412",
   "metadata": {},
   "outputs": [],
   "source": [
    "file_path = r\"C:\\Users\\diya\\fake_job_postings.csv\"\n",
    "data = pd.read_csv(file_path)"
   ]
  },
  {
   "cell_type": "code",
   "execution_count": 19,
   "id": "8d445fcb-81a9-40a2-9278-6edc86dc6420",
   "metadata": {},
   "outputs": [
    {
     "name": "stdout",
     "output_type": "stream",
     "text": [
      "File exists.\n"
     ]
    }
   ],
   "source": [
    "import os\n",
    "file_path = r\"C:\\Users\\diya\\fake_job_postings.csv\"\n",
    "if os.path.exists(file_path):\n",
    "    print(\"File exists.\")\n",
    "else:\n",
    "    print(\"File does not exist.\")"
   ]
  },
  {
   "cell_type": "code",
   "execution_count": 20,
   "id": "f0908ba1-f342-4399-bcf9-51feedfcee80",
   "metadata": {},
   "outputs": [],
   "source": [
    "data = pd.read_csv(file_path)"
   ]
  },
  {
   "cell_type": "code",
   "execution_count": 21,
   "id": "a6312d81-1d98-4b63-9aaa-1b8770603144",
   "metadata": {},
   "outputs": [
    {
     "name": "stdout",
     "output_type": "stream",
     "text": [
      "data preprocessing completed.\n"
     ]
    }
   ],
   "source": [
    "data = preprocess_data(data)"
   ]
  },
  {
   "cell_type": "code",
   "execution_count": 22,
   "id": "a320782f-17f6-43bb-839e-d7ca86b2b7dd",
   "metadata": {},
   "outputs": [],
   "source": [
    "X = data[['description', 'company_profile', 'requirements']]\n",
    "y = data['fraudulent']"
   ]
  },
  {
   "cell_type": "code",
   "execution_count": 23,
   "id": "8a18fea4-8ab9-456e-a9bd-e8971d77bdc1",
   "metadata": {},
   "outputs": [
    {
     "name": "stdout",
     "output_type": "stream",
     "text": [
      "<class 'pandas.core.frame.DataFrame'>\n",
      "RangeIndex: 17880 entries, 0 to 17879\n",
      "Data columns (total 16 columns):\n",
      " #   Column               Non-Null Count  Dtype \n",
      "---  ------               --------------  ----- \n",
      " 0   job_id               17880 non-null  int64 \n",
      " 1   title                17880 non-null  object\n",
      " 2   location             17534 non-null  object\n",
      " 3   company_profile      17880 non-null  object\n",
      " 4   description          17880 non-null  object\n",
      " 5   requirements         17880 non-null  object\n",
      " 6   benefits             17880 non-null  object\n",
      " 7   telecommuting        17880 non-null  int64 \n",
      " 8   has_company_logo     17880 non-null  int64 \n",
      " 9   has_questions        17880 non-null  int64 \n",
      " 10  employment_type      14409 non-null  object\n",
      " 11  required_experience  10830 non-null  object\n",
      " 12  required_education   9775 non-null   object\n",
      " 13  industry             12977 non-null  object\n",
      " 14  function             11425 non-null  object\n",
      " 15  fraudulent           17880 non-null  int64 \n",
      "dtypes: int64(5), object(11)\n",
      "memory usage: 2.2+ MB\n",
      "None\n",
      "                                         description  \\\n",
      "0  food52 a fastgrowing james beard awardwinning ...   \n",
      "1  organised  focused  vibrant  awesomedo you hav...   \n",
      "2  our client located in houston is actively seek...   \n",
      "3  the company esri  environmental systems resear...   \n",
      "4  job title itemization review managerlocation f...   \n",
      "\n",
      "                                     company_profile  \\\n",
      "0  were food52 and weve created a groundbreaking ...   \n",
      "1  90 seconds the worlds cloud video production s...   \n",
      "2  valor services provides workforce solutions th...   \n",
      "3  our passion for improving quality of life thro...   \n",
      "4  spotsource solutions llc is a global human cap...   \n",
      "\n",
      "                                        requirements  \n",
      "0  experience with content management systems a m...  \n",
      "1  what we expect from youyour key responsibility...  \n",
      "2  implement precommissioning and commissioning p...  \n",
      "3  education bachelors or masters in gis business...  \n",
      "4  qualificationsrn license in the state of texas...  \n"
     ]
    }
   ],
   "source": [
    "print(data.info())\n",
    "print(data[['description', 'company_profile', 'requirements']].head())"
   ]
  },
  {
   "cell_type": "code",
   "execution_count": null,
   "id": "5fb71bfc-abfb-4a61-9e4b-1a10b00387be",
   "metadata": {},
   "outputs": [],
   "source": []
  }
 ],
 "metadata": {
  "kernelspec": {
   "display_name": "Python 3 (ipykernel)",
   "language": "python",
   "name": "python3"
  },
  "language_info": {
   "codemirror_mode": {
    "name": "ipython",
    "version": 3
   },
   "file_extension": ".py",
   "mimetype": "text/x-python",
   "name": "python",
   "nbconvert_exporter": "python",
   "pygments_lexer": "ipython3",
   "version": "3.12.6"
  }
 },
 "nbformat": 4,
 "nbformat_minor": 5
}
